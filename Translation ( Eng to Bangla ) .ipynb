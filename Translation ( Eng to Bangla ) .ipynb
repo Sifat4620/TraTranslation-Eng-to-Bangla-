{
 "cells": [
  {
   "cell_type": "code",
   "execution_count": 1,
   "id": "65bcb866",
   "metadata": {},
   "outputs": [
    {
     "name": "stdout",
     "output_type": "stream",
     "text": [
      "Requirement already satisfied: requests in c:\\users\\mdsif\\anaconda3\\lib\\site-packages (2.28.1)\n",
      "Requirement already satisfied: charset-normalizer<3,>=2 in c:\\users\\mdsif\\anaconda3\\lib\\site-packages (from requests) (2.0.4)\n",
      "Requirement already satisfied: idna<4,>=2.5 in c:\\users\\mdsif\\anaconda3\\lib\\site-packages (from requests) (2.10)\n",
      "Requirement already satisfied: urllib3<1.27,>=1.21.1 in c:\\users\\mdsif\\anaconda3\\lib\\site-packages (from requests) (1.26.11)\n",
      "Requirement already satisfied: certifi>=2017.4.17 in c:\\users\\mdsif\\anaconda3\\lib\\site-packages (from requests) (2022.9.14)\n"
     ]
    },
    {
     "name": "stderr",
     "output_type": "stream",
     "text": [
      "\n",
      "[notice] A new release of pip is available: 23.2.1 -> 23.3.1\n",
      "[notice] To update, run: python.exe -m pip install --upgrade pip\n"
     ]
    }
   ],
   "source": [
    "!pip install requests"
   ]
  },
  {
   "cell_type": "code",
   "execution_count": 2,
   "id": "6e516513",
   "metadata": {},
   "outputs": [],
   "source": [
    "import requests"
   ]
  },
  {
   "cell_type": "code",
   "execution_count": 3,
   "id": "0cd053ab",
   "metadata": {},
   "outputs": [
    {
     "name": "stdout",
     "output_type": "stream",
     "text": [
      "হ্যালো, আপনি কেমন আছেন?\n"
     ]
    }
   ],
   "source": [
    "def translate_text(text, source_lang, target_lang):\n",
    "      # URL for the translation request\n",
    "    url = f\"https://mymemory.translated.net/api/get?q={text}&langpair={source_lang}|{target_lang}\"\n",
    "    response = requests.get(url)\n",
    "    if response.status_code == 200:  ## if 200 its mean okk \n",
    "        data = response.json()\n",
    "        translated_text = data[\"responseData\"][\"translatedText\"]\n",
    "        return translated_text\n",
    "    else:\n",
    "        return None\n",
    "\n",
    "english_text = \"Hello, how are you?\"\n",
    "translated_text = translate_text(english_text, \"en\", \"bn\")\n",
    "print(translated_text)"
   ]
  },
  {
   "cell_type": "code",
   "execution_count": null,
   "id": "8b28b8ce",
   "metadata": {},
   "outputs": [],
   "source": []
  }
 ],
 "metadata": {
  "kernelspec": {
   "display_name": "Python 3 (ipykernel)",
   "language": "python",
   "name": "python3"
  },
  "language_info": {
   "codemirror_mode": {
    "name": "ipython",
    "version": 3
   },
   "file_extension": ".py",
   "mimetype": "text/x-python",
   "name": "python",
   "nbconvert_exporter": "python",
   "pygments_lexer": "ipython3",
   "version": "3.9.13"
  }
 },
 "nbformat": 4,
 "nbformat_minor": 5
}
